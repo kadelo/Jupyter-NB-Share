{
 "cells": [
  {
   "cell_type": "markdown",
   "id": "81bf24c1-1e76-4243-b7d4-498203292de2",
   "metadata": {},
   "source": [
    "# Data Science Tools and Ecosystem"
   ]
  },
  {
   "cell_type": "markdown",
   "id": "8a5c8d7b-40dd-4235-a788-936dd5391e18",
   "metadata": {},
   "source": [
    "### In this notebook,Data Science Tools and Ecosystems are summarized"
   ]
  },
  {
   "cell_type": "markdown",
   "id": "2895e2d5-fd66-4972-bcc5-e115be6dd005",
   "metadata": {},
   "source": [
    "#### Some of the popular languages that Data Scientists use are:\n",
    "<ol>\n",
    "    <li> R </li>\n",
    "    <li> Python </li>\n",
    "    <li> Julia </li>\n",
    "    <li> Java </li>\n",
    "    <li> SQL </li> \n",
    "    </ol>"
   ]
  },
  {
   "cell_type": "markdown",
   "id": "01959e36-54f2-4e28-a937-c6fc4bacbcb4",
   "metadata": {},
   "source": [
    "### **Objectives:**\n",
    "<ul>\n",
    "    <li>List popular languages for Data Science</li>\n",
    "    <li>List commonly used libraries for Data Science</li>\n",
    "    <li>Name some Data Science Tools</li>\n",
    "    <li>Evaluating arithmetic expressions using Python</li>\n",
    "    </ul>"
   ]
  },
  {
   "cell_type": "markdown",
   "id": "332873a6-54ce-4f18-acae-95aa366ef5f5",
   "metadata": {},
   "source": [
    "#### Some of the commonly used libraries by Data Scientists include:\n",
    "\n",
    "<ol>\n",
    "    <li> Numpy </li>\n",
    "    <li> Matplotlib </li>\n",
    "    <li> Scikit-learn </li>\n",
    "    <li> Pandas </li>\n",
    "    <li> TensorFlow </li>\n",
    "    </ol>"
   ]
  },
  {
   "cell_type": "markdown",
   "id": "e00c9702-46d8-4b50-8cc1-f1d822b43dda",
   "metadata": {},
   "source": [
    "|Data Science Tools |\n",
    "|--------------------|\n",
    "| Apache Spark       |\n",
    "| My SQL.            |\n",
    "| IBM Watson Studio  |\n",
    "\n",
    "        "
   ]
  },
  {
   "cell_type": "markdown",
   "id": "b9a7967f-c6eb-47e5-b535-555f6d5f0167",
   "metadata": {},
   "source": [
    "### Below are a few examples of evaluating arithmetic expressions in Python"
   ]
  },
  {
   "cell_type": "code",
   "execution_count": 3,
   "id": "798f6915-136b-4ad3-96e4-cde0653a1395",
   "metadata": {
    "tags": []
   },
   "outputs": [
    {
     "data": {
      "text/plain": [
       "17"
      ]
     },
     "execution_count": 3,
     "metadata": {},
     "output_type": "execute_result"
    }
   ],
   "source": [
    "# This is a simple arithmetic expression to multiply then add integers\n",
    "(3*4)+5"
   ]
  },
  {
   "cell_type": "code",
   "execution_count": 11,
   "id": "fc4c6ea8-c60d-4674-85ca-151adfbfadd2",
   "metadata": {
    "tags": []
   },
   "outputs": [
    {
     "data": {
      "text/plain": [
       "3"
      ]
     },
     "execution_count": 11,
     "metadata": {},
     "output_type": "execute_result"
    }
   ],
   "source": [
    "# This will convert 200 minutes to hours by dividing by 60\n",
    "200 // 60"
   ]
  },
  {
   "cell_type": "markdown",
   "id": "c67e37ba-fc4a-40b2-a9e7-c43e06391779",
   "metadata": {},
   "source": [
    "## Author\n",
    "Delasi Afenu"
   ]
  },
  {
   "cell_type": "code",
   "execution_count": null,
   "id": "b26dd4d4-6499-4b0b-afcd-37c24614ed5f",
   "metadata": {},
   "outputs": [],
   "source": []
  }
 ],
 "metadata": {
  "kernelspec": {
   "display_name": "Python",
   "language": "python",
   "name": "conda-env-python-py"
  },
  "language_info": {
   "codemirror_mode": {
    "name": "ipython",
    "version": 3
   },
   "file_extension": ".py",
   "mimetype": "text/x-python",
   "name": "python",
   "nbconvert_exporter": "python",
   "pygments_lexer": "ipython3",
   "version": "3.7.12"
  }
 },
 "nbformat": 4,
 "nbformat_minor": 5
}
